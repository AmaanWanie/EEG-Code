{
 "cells": [
  {
   "cell_type": "code",
   "execution_count": 1,
   "metadata": {
    "ExecuteTime": {
     "end_time": "2024-01-29T15:45:24.276045187Z",
     "start_time": "2024-01-29T15:45:24.241753058Z"
    }
   },
   "outputs": [],
   "source": [
    "import os\n",
    "import pyarrow.parquet as pq\n",
    "import numpy as np\n",
    "import matplotlib.pyplot as plt\n",
    "import pandas as pd\n",
    "\n",
    "import tensorflow as tf\n",
    "\n",
    "physical_devices = tf.config.list_physical_devices('GPU')\n",
    "if len(physical_devices) > 0:\n",
    "    tf.config.experimental.set_memory_growth(physical_devices[0], True)\n",
    "from tensorflow.keras import backend as K\n",
    "K.clear_session()\n",
    "\n",
    "from tensorflow.keras.models import Model\n",
    "from tensorflow.keras.layers import Input, Dense, Concatenate, Flatten, Dropout,BatchNormalization\n",
    "from tensorflow.keras.optimizers import Adam\n",
    "from tensorflow.keras.utils import to_categorical\n",
    "from tensorflow.keras.callbacks import LearningRateScheduler\n",
    "\n",
    "from scipy import signal\n",
    "from skimage.transform import resize\n",
    "from sklearn.model_selection import train_test_split\n",
    "from sklearn.preprocessing import LabelEncoder"
   ]
  },
  {
   "cell_type": "code",
   "execution_count": 2,
   "metadata": {},
   "outputs": [],
   "source": [
    "from tensorflow.keras import backend as K\n",
    "K.clear_session()\n"
   ]
  },
  {
   "cell_type": "code",
   "execution_count": 4,
   "metadata": {
    "ExecuteTime": {
     "end_time": "2024-01-28T12:10:17.045634291Z",
     "start_time": "2024-01-28T12:10:17.001058386Z"
    }
   },
   "outputs": [],
   "source": [
    "def read_data(data_folder, num_files=None):\n",
    "    \"\"\"\n",
    "    Read EEG and spectrogram data from Parquet files in the specified data folder.\n",
    "\n",
    "    Parameters:\n",
    "    - data_folder (str): Path to the main data folder containing 'train' and 'test' subfolders.\n",
    "    - num_files (int or None): Number of files to read from each subfolder. If None, all files will be read.\n",
    "\n",
    "    Returns:\n",
    "    - train (List[Tuple[pd.DataFrame, pd.DataFrame]]): List of tuples containing train EEG data and train spectrogram data.\n",
    "    - test (List[Tuple[pd.DataFrame, pd.DataFrame]]): List of tuples containing test EEG data and test spectrogram data.\n",
    "    - train_labels (pd.DataFrame): DataFrame containing train labels.\n",
    "    - test_labels (pd.DataFrame): DataFrame containing test labels.\n",
    "    \"\"\"\n",
    "    train_eeg_folder = os.path.join(data_folder, 'train_eegs')\n",
    "    test_eeg_folder = os.path.join(data_folder, 'test_eegs')\n",
    "    train_spectrograms_folder = os.path.join(data_folder, 'train_spectrograms')\n",
    "    test_spectrograms_folder = os.path.join(data_folder, 'test_spectrograms')\n",
    "\n",
    "    def read_parquet_folder(folder_path, n_files=None):\n",
    "        dataframes = []\n",
    "        files_to_read = os.listdir(folder_path)[:n_files] if n_files else os.listdir(folder_path)\n",
    "        for file in files_to_read:\n",
    "            if file.endswith('.parquet'):\n",
    "                file_path = os.path.join(folder_path, file)\n",
    "                dataframe = pq.read_table(file_path).to_pandas()\n",
    "                dataframes.append(dataframe)\n",
    "        print(f\"Read {len(dataframes)} files from {folder_path}.\")\n",
    "        return dataframes\n",
    "\n",
    "\n",
    "    # Read EEG data\n",
    "    train_eeg = read_parquet_folder(train_eeg_folder, num_files)\n",
    "    test_eeg = read_parquet_folder(test_eeg_folder)\n",
    "\n",
    "    # Read spectrogram data\n",
    "#discarded\n",
    "\n",
    "    # Interpolate NaN values\n",
    "    train_eeg = [df.fillna(df.mean()) for df in train_eeg]\n",
    "#dsicarded\n",
    "\n",
    "\n",
    "\n",
    "    # Check nan values\n",
    "    print(\"NaN values in train_eeg:\", any(df.isnull().any().any() for df in train_eeg))\n",
    "    \n",
    "    print(\"NaN values in test_eeg:\", any(df.isnull().any().any() for df in test_eeg))\n",
    "   \n",
    "    # Combine data into tuples\n",
    "\n",
    "    train_labels = pd.read_csv('train.csv',nrows=num_files)\n",
    "    test_labels = pd.read_csv('test.csv')\n",
    "\n",
    "\n",
    "    return train_eeg, test_eeg, train_labels, test_labels"
   ]
  },
  {
   "cell_type": "code",
   "execution_count": 5,
   "metadata": {
    "ExecuteTime": {
     "end_time": "2024-01-28T12:10:17.069997229Z",
     "start_time": "2024-01-28T12:10:17.046114962Z"
    }
   },
   "outputs": [],
   "source": [
    "def single_vis(f, visualization_type):\n",
    "    \"\"\"\n",
    "    Visualize single EEG channels or Spectrogram from the provided DataFrame.\n",
    "\n",
    "    Parameters:\n",
    "    - f (pd.DataFrame): The DataFrame containing the data to be visualized.\n",
    "    - visualization_type (str): Specify the type of visualization: 'eeg' for EEG channels or 'spectrogram' for Spectrogram.\n",
    "\n",
    "    Raises:\n",
    "    - ValueError: If an invalid `visualization_type` is provided.\n",
    "\n",
    "    Returns:\n",
    "    None\n",
    "    \"\"\"\n",
    "    \n",
    "    if visualization_type == 'eeg':\n",
    "        channels_to_exclude = []\n",
    "        title = 'EEG Channels Visualization'\n",
    "        \n",
    "        eeg_channels = [column for column in f.columns if column not in channels_to_exclude]\n",
    "        plt.figure(figsize=(40, 10))\n",
    "        \n",
    "        # Calculate the offset for each channel based on the maximum amplitude\n",
    "        max_amplitude = f[eeg_channels].max().max()\n",
    "        channel_offset = max_amplitude * 1.2  # Adjust the multiplier as needed\n",
    "        \n",
    "        for i, column in enumerate(eeg_channels):\n",
    "            y_values = f[column] + i * channel_offset\n",
    "            plt.plot(f.index, y_values, label=column)\n",
    "\n",
    "        plt.title(title)\n",
    "        plt.xlabel('Sample')\n",
    "        plt.ylabel('Amplitude')\n",
    "        plt.legend()\n",
    "        plt.show()\n",
    "        \n",
    "    elif visualization_type == 'spectrogram':\n",
    "        channels_to_exclude = ['time']\n",
    "        title = 'Spectrogram Visualization'\n",
    "        \n",
    "        spectrogram_channels = [column for column in f.columns if column not in channels_to_exclude]\n",
    "        plt.figure(figsize=(40, 10))\n",
    "        \n",
    "        combined_spectrogram = np.zeros((len(f), len(spectrogram_channels)))\n",
    "        for i, column in enumerate(spectrogram_channels):\n",
    "            combined_spectrogram[:, i] = f[column].values\n",
    "        \n",
    "        plt.imshow(combined_spectrogram.T, aspect='auto', cmap='viridis', interpolation='nearest')\n",
    "        plt.title(title)\n",
    "        plt.xlabel('Sample')\n",
    "        plt.ylabel('Channel')\n",
    "        plt.show()\n",
    "        \n",
    "    else:\n",
    "        raise ValueError(\"Invalid visualization type. Use 'eeg' or 'spectrogram'.\")\n"
   ]
  },
  {
   "cell_type": "code",
   "execution_count": 6,
   "metadata": {
    "ExecuteTime": {
     "end_time": "2024-01-28T12:10:17.081755310Z",
     "start_time": "2024-01-28T12:10:17.061765171Z"
    }
   },
   "outputs": [],
   "source": [
    "desired_length = 100\n",
    "num_features = 32\n",
    "desired_length = 100  \n",
    "num_frequency_bins = 32  \n",
    "num_classes = 6 "
   ]
  },
  {
   "cell_type": "code",
   "execution_count": 7,
   "metadata": {},
   "outputs": [
    {
     "ename": "NameError",
     "evalue": "name 'input_shape_eeg' is not defined",
     "output_type": "error",
     "traceback": [
      "\u001b[1;31m---------------------------------------------------------------------------\u001b[0m",
      "\u001b[1;31mNameError\u001b[0m                                 Traceback (most recent call last)",
      "Cell \u001b[1;32mIn[7], line 1\u001b[0m\n\u001b[1;32m----> 1\u001b[0m \u001b[43minput_shape_eeg\u001b[49m[\u001b[38;5;241m0\u001b[39m]\n",
      "\u001b[1;31mNameError\u001b[0m: name 'input_shape_eeg' is not defined"
     ]
    }
   ],
   "source": [
    "input_shape_eeg[0]"
   ]
  },
  {
   "cell_type": "code",
   "execution_count": 27,
   "metadata": {
    "ExecuteTime": {
     "end_time": "2024-01-28T12:10:17.112649517Z",
     "start_time": "2024-01-28T12:10:17.077069883Z"
    }
   },
   "outputs": [],
   "source": [
    "\n",
    "def preprocess_eeg(X_train_eeg, target_shape=(desired_length, num_features)):\n",
    "    eeg_array = np.array(X_train_eeg)[:desired_length, :num_features].astype(np.float32)\n",
    "    return eeg_array\n",
    "\n",
    "\n",
    "\n",
    "def preprocess_spectrogram(spectrogram_df, target_shape=(desired_length, num_frequency_bins)):\n",
    "    spec_array = np.array(spectrogram_df)[:target_shape[0], :target_shape[1]].astype(np.float32)\n",
    "    return spec_array\n",
    "\n",
    "def create_model(input_shape_eeg, num_classes=6):\n",
    "    \"\"\"Create a multi-input, multi-output model for\n",
    "    EEG and Spectrogram data.\n",
    "\n",
    "    Args:\n",
    "        input_shape_eeg : shape of one EEG sample\n",
    "        input_shape_spectrogram : shape of one Spectrogram sample\n",
    "        num_classes : 6 for seizure, lpd, gpd, lrda, grda, other\n",
    "\n",
    "    Returns:\n",
    "        keras model\n",
    "    \"\"\"\n",
    "    \n",
    "    # EEG branch\n",
    "    model = tf.keras.Sequential([\n",
    "        tf.keras.layers.LSTM(units=64, input_shape=input_shape_eeg[1:], return_sequences=True),\n",
    "        BatchNormalization(),\n",
    "        Dropout(0.4),\n",
    "        tf.keras.layers.LSTM(units=64),\n",
    "        BatchNormalization(),\n",
    "        Dropout(0.4),\n",
    "        Dense(32, activation='relu'),\n",
    "        Dense(6, activation='softmax')\n",
    "        ])\n",
    "    return model\n",
    "\n",
    "def lr_schedule(epoch, lr):\n",
    "    if epoch % 10 == 0 and epoch > 0:\n",
    "        return lr * 0.9\n",
    "    return lr"
   ]
  },
  {
   "cell_type": "code",
   "execution_count": 9,
   "metadata": {
    "ExecuteTime": {
     "end_time": "2024-01-28T12:10:24.748826349Z",
     "start_time": "2024-01-28T12:10:17.105073429Z"
    },
    "collapsed": false
   },
   "outputs": [
    {
     "name": "stdout",
     "output_type": "stream",
     "text": [
      "Read 24 files from data/data\\train_eegs.\n",
      "Read 1 files from data/data\\test_eegs.\n",
      "NaN values in train_eeg: False\n",
      "NaN values in test_eeg: False\n"
     ]
    }
   ],
   "source": [
    "train,test,train_labels,test_labels = read_data('data/data',24)"
   ]
  },
  {
   "cell_type": "code",
   "execution_count": 10,
   "metadata": {
    "ExecuteTime": {
     "end_time": "2024-01-28T12:10:24.791865311Z",
     "start_time": "2024-01-28T12:10:24.750681819Z"
    },
    "collapsed": false
   },
   "outputs": [],
   "source": [
    "\n",
    "X_train, X_test, y_train, y_test = train_test_split(train, train_labels, test_size=0.2, random_state=42,shuffle=True)"
   ]
  },
  {
   "cell_type": "code",
   "execution_count": 11,
   "metadata": {},
   "outputs": [],
   "source": [
    "X_train= np.concatenate(X_train, axis=0)"
   ]
  },
  {
   "cell_type": "code",
   "execution_count": 35,
   "metadata": {},
   "outputs": [],
   "source": [
    "X_test=np.concatenate(X_test,axis=0)"
   ]
  },
  {
   "cell_type": "code",
   "execution_count": 42,
   "metadata": {},
   "outputs": [
    {
     "name": "stdout",
     "output_type": "stream",
     "text": [
      "(84400, 20)\n",
      "(245600, 20)\n"
     ]
    }
   ],
   "source": [
    "print(X_test.shape)\n",
    "print(X_train.shape)"
   ]
  },
  {
   "cell_type": "code",
   "execution_count": 12,
   "metadata": {},
   "outputs": [],
   "source": [
    "# Define the number of examples you want\n",
    "num_examples = 19\n",
    "\n",
    "# Calculate the number of samples per example\n",
    "samples_per_example = X_train.shape[0] //num_examples\n",
    "\n",
    "# Initialize a list to store the split examples\n",
    "X_train_split = []\n",
    "\n",
    "# Split X_train into 19 examples\n",
    "for i in range(num_examples):\n",
    "    start_index = i * samples_per_example\n",
    "    end_index = (i + 1) * samples_per_example\n",
    "    example = X_train[start_index:end_index]\n",
    "    X_train_split.append(example)\n",
    "\n",
    "# Convert the list of examples into a numpy array\n",
    "X_train_split = np.array(X_train_split)"
   ]
  },
  {
   "cell_type": "code",
   "execution_count": 47,
   "metadata": {},
   "outputs": [],
   "source": [
    "# Define the number of examples you want for X_test\n",
    "num_examples_test = 19\n",
    "\n",
    "# Calculate the number of samples per example for X_test\n",
    "samples_per_example_test = X_test.shape[0] // num_examples_test\n",
    "\n",
    "# Initialize a list to store the split examples for X_test\n",
    "X_test_split = []\n",
    "\n",
    "# Split X_test into 19 examples\n",
    "for i in range(num_examples_test):\n",
    "    start_index = i * samples_per_example_test\n",
    "    end_index = (i + 1) * samples_per_example_test\n",
    "    example = X_test[start_index:end_index]\n",
    "    X_test_split.append(example)\n",
    "\n",
    "# Convert the list of examples into a numpy array for X_test\n",
    "X_test_split = np.array(X_test_split)\n"
   ]
  },
  {
   "cell_type": "code",
   "execution_count": 48,
   "metadata": {},
   "outputs": [
    {
     "data": {
      "text/plain": [
       "(19, 4442, 20)"
      ]
     },
     "execution_count": 48,
     "metadata": {},
     "output_type": "execute_result"
    }
   ],
   "source": [
    "X_test_split.shape"
   ]
  },
  {
   "cell_type": "code",
   "execution_count": 13,
   "metadata": {},
   "outputs": [
    {
     "data": {
      "text/plain": [
       "(19, 12926, 20)"
      ]
     },
     "execution_count": 13,
     "metadata": {},
     "output_type": "execute_result"
    }
   ],
   "source": [
    "X_train_split.shape"
   ]
  },
  {
   "cell_type": "code",
   "execution_count": null,
   "metadata": {},
   "outputs": [],
   "source": []
  },
  {
   "cell_type": "code",
   "execution_count": 14,
   "metadata": {
    "ExecuteTime": {
     "end_time": "2024-01-28T12:10:25.686218767Z",
     "start_time": "2024-01-28T12:10:24.791793106Z"
    }
   },
   "outputs": [
    {
     "ename": "AttributeError",
     "evalue": "'numpy.ndarray' object has no attribute 'columns'",
     "output_type": "error",
     "traceback": [
      "\u001b[1;31m---------------------------------------------------------------------------\u001b[0m",
      "\u001b[1;31mAttributeError\u001b[0m                            Traceback (most recent call last)",
      "Cell \u001b[1;32mIn[14], line 1\u001b[0m\n\u001b[1;32m----> 1\u001b[0m \u001b[43msingle_vis\u001b[49m\u001b[43m(\u001b[49m\u001b[43mX_train\u001b[49m\u001b[43m,\u001b[49m\u001b[43m \u001b[49m\u001b[38;5;124;43m'\u001b[39;49m\u001b[38;5;124;43meeg\u001b[39;49m\u001b[38;5;124;43m'\u001b[39;49m\u001b[43m)\u001b[49m\n",
      "Cell \u001b[1;32mIn[5], line 20\u001b[0m, in \u001b[0;36msingle_vis\u001b[1;34m(f, visualization_type)\u001b[0m\n\u001b[0;32m     17\u001b[0m channels_to_exclude \u001b[38;5;241m=\u001b[39m []\n\u001b[0;32m     18\u001b[0m title \u001b[38;5;241m=\u001b[39m \u001b[38;5;124m'\u001b[39m\u001b[38;5;124mEEG Channels Visualization\u001b[39m\u001b[38;5;124m'\u001b[39m\n\u001b[1;32m---> 20\u001b[0m eeg_channels \u001b[38;5;241m=\u001b[39m [column \u001b[38;5;28;01mfor\u001b[39;00m column \u001b[38;5;129;01min\u001b[39;00m \u001b[43mf\u001b[49m\u001b[38;5;241;43m.\u001b[39;49m\u001b[43mcolumns\u001b[49m \u001b[38;5;28;01mif\u001b[39;00m column \u001b[38;5;129;01mnot\u001b[39;00m \u001b[38;5;129;01min\u001b[39;00m channels_to_exclude]\n\u001b[0;32m     21\u001b[0m plt\u001b[38;5;241m.\u001b[39mfigure(figsize\u001b[38;5;241m=\u001b[39m(\u001b[38;5;241m40\u001b[39m, \u001b[38;5;241m10\u001b[39m))\n\u001b[0;32m     23\u001b[0m \u001b[38;5;66;03m# Calculate the offset for each channel based on the maximum amplitude\u001b[39;00m\n",
      "\u001b[1;31mAttributeError\u001b[0m: 'numpy.ndarray' object has no attribute 'columns'"
     ]
    }
   ],
   "source": [
    "single_vis(X_train, 'eeg')"
   ]
  },
  {
   "cell_type": "code",
   "execution_count": 15,
   "metadata": {
    "ExecuteTime": {
     "end_time": "2024-01-28T12:10:25.687317448Z",
     "start_time": "2024-01-28T12:10:25.652011627Z"
    }
   },
   "outputs": [],
   "source": [
    "y_train = np.array(y_train)"
   ]
  },
  {
   "cell_type": "code",
   "execution_count": 16,
   "metadata": {
    "ExecuteTime": {
     "end_time": "2024-01-28T12:10:25.687953310Z",
     "start_time": "2024-01-28T12:10:25.654741096Z"
    }
   },
   "outputs": [],
   "source": [
    "labels = y_train[:, 8]\n",
    "\n",
    "# Encoding labels using LabelEncoder\n",
    "label_encoder = LabelEncoder()\n",
    "encoded_labels = label_encoder.fit_transform(labels)\n",
    "\n",
    "# Convert labels to categorical one-hot encoding\n",
    "one_hot_labels = to_categorical(encoded_labels, num_classes=num_classes)\n",
    "\n",
    "# Convert labels to float32\n",
    "y_train = one_hot_labels.astype('float32')\n",
    "\n",
    "# Convert other columns to numeric values\n",
    "for col_index in range(y_train.shape[1]):\n",
    "    # Skip label column as it has already been encoded\n",
    "    if col_index == 8:\n",
    "        continue\n",
    "    \n",
    "    # Convert each element in the column to a numeric value\n",
    "    y_train[:, col_index] = np.array([float(val) if isinstance(val, str) and '.' in val else int(val) for val in y_train[:, col_index]])\n"
   ]
  },
  {
   "cell_type": "code",
   "execution_count": 56,
   "metadata": {
    "ExecuteTime": {
     "end_time": "2024-01-28T12:10:25.828123167Z",
     "start_time": "2024-01-28T12:10:25.666672221Z"
    }
   },
   "outputs": [
    {
     "data": {
      "text/plain": [
       "array([[1., 0., 0., 0., 0., 0.],\n",
       "       [0., 1., 0., 0., 0., 0.],\n",
       "       [0., 0., 1., 0., 0., 0.],\n",
       "       [0., 1., 0., 0., 0., 0.],\n",
       "       [0., 0., 1., 0., 0., 0.],\n",
       "       [0., 0., 1., 0., 0., 0.],\n",
       "       [0., 1., 0., 0., 0., 0.],\n",
       "       [0., 1., 0., 0., 0., 0.],\n",
       "       [0., 0., 1., 0., 0., 0.],\n",
       "       [0., 0., 1., 0., 0., 0.],\n",
       "       [0., 1., 0., 0., 0., 0.],\n",
       "       [0., 1., 0., 0., 0., 0.],\n",
       "       [0., 1., 0., 0., 0., 0.],\n",
       "       [0., 1., 0., 0., 0., 0.],\n",
       "       [0., 0., 1., 0., 0., 0.],\n",
       "       [1., 0., 0., 0., 0., 0.],\n",
       "       [0., 1., 0., 0., 0., 0.],\n",
       "       [0., 1., 0., 0., 0., 0.],\n",
       "       [0., 0., 1., 0., 0., 0.]], dtype=float32)"
      ]
     },
     "execution_count": 56,
     "metadata": {},
     "output_type": "execute_result"
    }
   ],
   "source": [
    "y_train"
   ]
  },
  {
   "cell_type": "code",
   "execution_count": 17,
   "metadata": {
    "ExecuteTime": {
     "end_time": "2024-01-28T12:10:25.847117728Z",
     "start_time": "2024-01-28T12:10:25.707765395Z"
    },
    "collapsed": false
   },
   "outputs": [],
   "source": [
    "X_train_eeg = X_train_split.astype(np.float32)\n",
    "\n",
    "\n",
    "\n",
    "# Define input shapes\n",
    "input_shape_eeg = X_train_eeg.shape#Shape of one EEG sample\n",
    "\n",
    "num_classes = y_train.shape"
   ]
  },
  {
   "cell_type": "code",
   "execution_count": 49,
   "metadata": {},
   "outputs": [],
   "source": [
    "X_test_eeg = X_test_split.astype(np.float32)\n",
    "\n",
    "\n",
    "\n",
    "# Define input shapes\n"
   ]
  },
  {
   "cell_type": "code",
   "execution_count": 50,
   "metadata": {},
   "outputs": [
    {
     "data": {
      "text/plain": [
       "(19, 4442, 20)"
      ]
     },
     "execution_count": 50,
     "metadata": {},
     "output_type": "execute_result"
    }
   ],
   "source": [
    "X_test_eeg.shape"
   ]
  },
  {
   "cell_type": "code",
   "execution_count": 46,
   "metadata": {},
   "outputs": [
    {
     "data": {
      "text/plain": [
       "(19, 12926, 20)"
      ]
     },
     "execution_count": 46,
     "metadata": {},
     "output_type": "execute_result"
    }
   ],
   "source": [
    "input_shape_eeg"
   ]
  },
  {
   "cell_type": "code",
   "execution_count": 18,
   "metadata": {},
   "outputs": [
    {
     "data": {
      "text/plain": [
       "(19, 12926, 20)"
      ]
     },
     "execution_count": 18,
     "metadata": {},
     "output_type": "execute_result"
    }
   ],
   "source": [
    "input_shape_eeg"
   ]
  },
  {
   "cell_type": "code",
   "execution_count": 19,
   "metadata": {},
   "outputs": [],
   "source": [
    "num_classes=6"
   ]
  },
  {
   "cell_type": "code",
   "execution_count": 20,
   "metadata": {
    "ExecuteTime": {
     "end_time": "2024-01-28T12:10:25.848243519Z",
     "start_time": "2024-01-28T12:10:25.748385010Z"
    }
   },
   "outputs": [],
   "source": [
    "for i in range(len(X_train_eeg)):\n",
    "    if np.any(np.isnan(X_train_eeg[i])):\n",
    "        print(i)"
   ]
  },
  {
   "cell_type": "code",
   "execution_count": 36,
   "metadata": {
    "ExecuteTime": {
     "end_time": "2024-01-28T12:10:25.849074457Z",
     "start_time": "2024-01-28T12:10:25.791836366Z"
    }
   },
   "outputs": [
    {
     "name": "stdout",
     "output_type": "stream",
     "text": [
      "[[-2.3203e+02 -1.0091e+02 -2.0190e+01 ... -2.7220e+01  1.7220e+01\n",
      "  -4.0010e+01]\n",
      " [-2.8830e+02 -1.4167e+02 -4.7270e+01 ... -3.5930e+01  5.2470e+01\n",
      "   1.0533e+02]\n",
      " [-2.9833e+02 -1.5655e+02 -5.7660e+01 ... -3.3640e+01  1.0854e+02\n",
      "   1.4543e+02]\n",
      " ...\n",
      " [ 3.2100e+01  1.7060e+01  1.4750e+01 ...  7.0000e-02  2.0300e+00\n",
      "  -3.8380e+01]\n",
      " [ 1.4710e+01  1.4200e+01  7.6700e+00 ... -1.3390e+01  6.4730e+01\n",
      "   5.8760e+01]\n",
      " [ 4.8330e+01  3.5810e+01  2.6800e+01 ... -2.4700e+00  7.0240e+01\n",
      "   2.9320e+01]]\n"
     ]
    }
   ],
   "source": [
    "print(X_train_eeg[14])"
   ]
  },
  {
   "cell_type": "code",
   "execution_count": 17,
   "metadata": {
    "ExecuteTime": {
     "end_time": "2024-01-28T12:10:25.850031422Z",
     "start_time": "2024-01-28T12:10:25.792225636Z"
    }
   },
   "outputs": [
    {
     "name": "stdout",
     "output_type": "stream",
     "text": [
      "float32\n",
      "float32\n",
      "float32\n",
      "(20,)\n",
      "(32,)\n",
      "False\n",
      "False\n",
      "False\n",
      "False\n"
     ]
    }
   ],
   "source": [
    "# print(X_train_eeg.dtype)\n",
    "# print(X_train_spectrogram.dtype)\n",
    "# print(y_train.dtype)\n",
    "# print(input_shape_eeg[1:])\n",
    "# print(input_shape_spectrogram[1:])\n",
    "# print(np.any(np.isnan(X_train_eeg)))\n",
    "# print(np.any(np.isnan(X_train_spectrogram)))\n",
    "# print(np.any(np.isinf(X_train_eeg)))\n",
    "# print(np.any(np.isinf(X_train_spectrogram)))"
   ]
  },
  {
   "cell_type": "code",
   "execution_count": 52,
   "metadata": {},
   "outputs": [],
   "source": [
    "desired_shape = (num_examples, 12926, 20)\n",
    "\n",
    "# Calculate the current shape of X_test_split\n",
    "current_shape = X_test_split.shape\n",
    "\n",
    "# Calculate the padding required for each dimension\n",
    "pad_width = [(0, desired_shape[i] - current_shape[i]) for i in range(len(desired_shape))]\n",
    "\n",
    "# Pad X_test_split with zeros to match the desired shape\n",
    "X_test_padded = np.pad(X_test_split, pad_width, mode='constant', constant_values=0)\n"
   ]
  },
  {
   "cell_type": "code",
   "execution_count": 53,
   "metadata": {},
   "outputs": [
    {
     "data": {
      "text/plain": [
       "(19, 12926, 20)"
      ]
     },
     "execution_count": 53,
     "metadata": {},
     "output_type": "execute_result"
    }
   ],
   "source": [
    "X_test_padded.shape"
   ]
  },
  {
   "cell_type": "code",
   "execution_count": 21,
   "metadata": {},
   "outputs": [
    {
     "name": "stdout",
     "output_type": "stream",
     "text": [
      "Shape of X_train_eeg: (19, 12926, 20)\n",
      "Shape of y_train: (19, 6)\n"
     ]
    }
   ],
   "source": [
    "print(\"Shape of X_train_eeg:\", X_train_eeg.shape)\n",
    "print(\"Shape of y_train:\", y_train.shape)\n"
   ]
  },
  {
   "cell_type": "code",
   "execution_count": 30,
   "metadata": {
    "ExecuteTime": {
     "end_time": "2024-01-28T12:11:29.927681140Z",
     "start_time": "2024-01-28T12:11:26.450167072Z"
    }
   },
   "outputs": [
    {
     "name": "stdout",
     "output_type": "stream",
     "text": [
      "Epoch 1/10\n",
      "4/4 [==============================] - 98s 24s/step - loss: 2.1640 - accuracy: 0.2632\n",
      "Epoch 2/10\n",
      "4/4 [==============================] - 94s 23s/step - loss: 1.0607 - accuracy: 0.6316\n",
      "Epoch 3/10\n",
      "4/4 [==============================] - 93s 23s/step - loss: 0.6972 - accuracy: 0.8421\n",
      "Epoch 4/10\n",
      "4/4 [==============================] - 94s 23s/step - loss: 0.3933 - accuracy: 0.8421\n",
      "Epoch 5/10\n",
      "4/4 [==============================] - 92s 23s/step - loss: 0.4377 - accuracy: 0.8421\n",
      "Epoch 6/10\n",
      "4/4 [==============================] - 92s 23s/step - loss: 0.2840 - accuracy: 0.8947\n",
      "Epoch 7/10\n",
      "4/4 [==============================] - 92s 23s/step - loss: 0.5152 - accuracy: 0.8421\n",
      "Epoch 8/10\n",
      "4/4 [==============================] - 91s 23s/step - loss: 0.0610 - accuracy: 1.0000\n",
      "Epoch 9/10\n",
      "4/4 [==============================] - 93s 23s/step - loss: 0.2279 - accuracy: 0.9474\n",
      "Epoch 10/10\n",
      "4/4 [==============================] - 100s 26s/step - loss: 0.0931 - accuracy: 1.0000\n"
     ]
    }
   ],
   "source": [
    "model = create_model(input_shape_eeg, 6)\n",
    "optimizer = Adam(learning_rate=0.01)\n",
    "lr_scheduler = LearningRateScheduler(lr_schedule)\n",
    "\n",
    "model.compile(optimizer=optimizer, loss = tf.keras.losses.KLDivergence(), metrics=['accuracy'])\n",
    "\n",
    "history=model.fit(X_train_eeg, y_train, epochs=10, batch_size=5)\n"
   ]
  },
  {
   "cell_type": "code",
   "execution_count": 24,
   "metadata": {
    "ExecuteTime": {
     "end_time": "2024-01-28T12:11:46.327154236Z",
     "start_time": "2024-01-28T12:11:46.275300051Z"
    }
   },
   "outputs": [
    {
     "name": "stdout",
     "output_type": "stream",
     "text": [
      "Model: \"sequential_1\"\n",
      "_________________________________________________________________\n",
      " Layer (type)                Output Shape              Param #   \n",
      "=================================================================\n",
      " lstm_2 (LSTM)               (None, 12926, 64)         21760     \n",
      "                                                                 \n",
      " batch_normalization_2 (Bat  (None, 12926, 64)         256       \n",
      " chNormalization)                                                \n",
      "                                                                 \n",
      " dropout_2 (Dropout)         (None, 12926, 64)         0         \n",
      "                                                                 \n",
      " lstm_3 (LSTM)               (None, 64)                33024     \n",
      "                                                                 \n",
      " batch_normalization_3 (Bat  (None, 64)                256       \n",
      " chNormalization)                                                \n",
      "                                                                 \n",
      " dropout_3 (Dropout)         (None, 64)                0         \n",
      "                                                                 \n",
      " dense_2 (Dense)             (None, 32)                2080      \n",
      "                                                                 \n",
      " dense_3 (Dense)             (None, 6)                 198       \n",
      "                                                                 \n",
      "=================================================================\n",
      "Total params: 57574 (224.90 KB)\n",
      "Trainable params: 57318 (223.90 KB)\n",
      "Non-trainable params: 256 (1.00 KB)\n",
      "_________________________________________________________________\n"
     ]
    }
   ],
   "source": [
    "model.summary()"
   ]
  },
  {
   "cell_type": "code",
   "execution_count": null,
   "metadata": {},
   "outputs": [],
   "source": []
  },
  {
   "cell_type": "code",
   "execution_count": 55,
   "metadata": {},
   "outputs": [
    {
     "name": "stdout",
     "output_type": "stream",
     "text": [
      "1/1 [==============================] - 3s 3s/step\n"
     ]
    }
   ],
   "source": [
    "y_preds=model.predict(X_test_padded)"
   ]
  },
  {
   "cell_type": "code",
   "execution_count": 60,
   "metadata": {},
   "outputs": [],
   "source": [
    "from sklearn.preprocessing import LabelEncoder\n",
    "\n",
    "# Convert all labels to strings\n",
    "y_test_flat_str = y_test.astype(str).values.ravel()\n",
    "\n",
    "# Initialize LabelEncoder\n",
    "label_encoder = LabelEncoder()\n",
    "\n",
    "# Encode string labels to numeric values\n",
    "y_test_encoded = label_encoder.fit_transform(y_test_flat_str)\n",
    "\n",
    "# Now, y_test_encoded contains numeric labels corresponding to the string labels in y_test\n"
   ]
  },
  {
   "cell_type": "code",
   "execution_count": 64,
   "metadata": {},
   "outputs": [
    {
     "name": "stdout",
     "output_type": "stream",
     "text": [
      "1/1 [==============================] - 4s 4s/step\n",
      "Accuracy: 0.0\n"
     ]
    },
    {
     "name": "stderr",
     "output_type": "stream",
     "text": [
      "C:\\Users\\Dell\\AppData\\Local\\Temp\\ipykernel_6320\\2275080647.py:13: DeprecationWarning: elementwise comparison failed; this will raise an error in the future.\n",
      "  accuracy = np.mean(predicted_labels == true_labels)\n"
     ]
    }
   ],
   "source": [
    "# Make predictions using your model\n",
    "predictions = model.predict(X_test_padded)\n",
    "\n",
    "# Assuming y_test contains the true labels for X_test\n",
    "# Calculate the predicted labels by taking the index of the maximum value in each prediction array\n",
    "predicted_labels = np.argmax(predictions, axis=1)\n",
    "\n",
    "# Assuming y_test contains the true labels for X_test\n",
    "# Calculate the true labels by taking the index of the maximum value in each true label array\n",
    "true_labels = y_test_encoded\n",
    "\n",
    "# Compute accuracy\n",
    "accuracy = np.mean(predicted_labels == true_labels)\n",
    "print(\"Accuracy:\", accuracy)\n"
   ]
  },
  {
   "cell_type": "code",
   "execution_count": 65,
   "metadata": {
    "ExecuteTime": {
     "end_time": "2024-01-28T12:11:48.407838814Z",
     "start_time": "2024-01-28T12:11:48.259725983Z"
    }
   },
   "outputs": [
    {
     "ename": "IndexError",
     "evalue": "too many indices for array: array is 0-dimensional, but 2 were indexed",
     "output_type": "error",
     "traceback": [
      "\u001b[1;31m---------------------------------------------------------------------------\u001b[0m",
      "\u001b[1;31mIndexError\u001b[0m                                Traceback (most recent call last)",
      "Cell \u001b[1;32mIn[65], line 1\u001b[0m\n\u001b[1;32m----> 1\u001b[0m X_test_eeg \u001b[38;5;241m=\u001b[39m np\u001b[38;5;241m.\u001b[39marray([preprocess_eeg(item[\u001b[38;5;241m0\u001b[39m]) \u001b[38;5;28;01mfor\u001b[39;00m item \u001b[38;5;129;01min\u001b[39;00m X_test])\n\u001b[0;32m      2\u001b[0m X_test_spectrogram \u001b[38;5;241m=\u001b[39m np\u001b[38;5;241m.\u001b[39marray([preprocess_spectrogram(item[\u001b[38;5;241m1\u001b[39m]) \u001b[38;5;28;01mfor\u001b[39;00m item \u001b[38;5;129;01min\u001b[39;00m X_test])\n\u001b[0;32m      3\u001b[0m y_pred \u001b[38;5;241m=\u001b[39m model\u001b[38;5;241m.\u001b[39mpredict([X_test_eeg, X_test_spectrogram])\n",
      "Cell \u001b[1;32mIn[65], line 1\u001b[0m, in \u001b[0;36m<listcomp>\u001b[1;34m(.0)\u001b[0m\n\u001b[1;32m----> 1\u001b[0m X_test_eeg \u001b[38;5;241m=\u001b[39m np\u001b[38;5;241m.\u001b[39marray([\u001b[43mpreprocess_eeg\u001b[49m\u001b[43m(\u001b[49m\u001b[43mitem\u001b[49m\u001b[43m[\u001b[49m\u001b[38;5;241;43m0\u001b[39;49m\u001b[43m]\u001b[49m\u001b[43m)\u001b[49m \u001b[38;5;28;01mfor\u001b[39;00m item \u001b[38;5;129;01min\u001b[39;00m X_test])\n\u001b[0;32m      2\u001b[0m X_test_spectrogram \u001b[38;5;241m=\u001b[39m np\u001b[38;5;241m.\u001b[39marray([preprocess_spectrogram(item[\u001b[38;5;241m1\u001b[39m]) \u001b[38;5;28;01mfor\u001b[39;00m item \u001b[38;5;129;01min\u001b[39;00m X_test])\n\u001b[0;32m      3\u001b[0m y_pred \u001b[38;5;241m=\u001b[39m model\u001b[38;5;241m.\u001b[39mpredict([X_test_eeg, X_test_spectrogram])\n",
      "Cell \u001b[1;32mIn[27], line 2\u001b[0m, in \u001b[0;36mpreprocess_eeg\u001b[1;34m(X_train_eeg, target_shape)\u001b[0m\n\u001b[0;32m      1\u001b[0m \u001b[38;5;28;01mdef\u001b[39;00m \u001b[38;5;21mpreprocess_eeg\u001b[39m(X_train_eeg, target_shape\u001b[38;5;241m=\u001b[39m(desired_length, num_features)):\n\u001b[1;32m----> 2\u001b[0m     eeg_array \u001b[38;5;241m=\u001b[39m \u001b[43mnp\u001b[49m\u001b[38;5;241;43m.\u001b[39;49m\u001b[43marray\u001b[49m\u001b[43m(\u001b[49m\u001b[43mX_train_eeg\u001b[49m\u001b[43m)\u001b[49m\u001b[43m[\u001b[49m\u001b[43m:\u001b[49m\u001b[43mdesired_length\u001b[49m\u001b[43m,\u001b[49m\u001b[43m \u001b[49m\u001b[43m:\u001b[49m\u001b[43mnum_features\u001b[49m\u001b[43m]\u001b[49m\u001b[38;5;241m.\u001b[39mastype(np\u001b[38;5;241m.\u001b[39mfloat32)\n\u001b[0;32m      3\u001b[0m     \u001b[38;5;28;01mreturn\u001b[39;00m eeg_array\n",
      "\u001b[1;31mIndexError\u001b[0m: too many indices for array: array is 0-dimensional, but 2 were indexed"
     ]
    }
   ],
   "source": [
    "X_test_eeg = np.array([preprocess_eeg(item[0]) for item in X_test])\n",
    "X_test_spectrogram = np.array([preprocess_spectrogram(item[1]) for item in X_test])\n",
    "y_pred = model.predict([X_test_eeg, X_test_spectrogram])\n",
    "\n",
    "eeg_ids_test = [X_test[i][0].index[0] for i in range(len(X_test))]\n",
    "\n",
    "output_df = pd.DataFrame({\n",
    "    'eeg_id': eeg_ids_test,\n",
    "    'seizure_vote': y_pred[:, 0],\n",
    "    'lpd_vote': y_pred[:, 1],\n",
    "    'gpd_vote': y_pred[:, 2],\n",
    "    'lrda_vote': y_pred[:, 3],\n",
    "    'grda_vote': y_pred[:, 4],\n",
    "    'other_vote': y_pred[:, 5]\n",
    "})\n"
   ]
  },
  {
   "cell_type": "code",
   "execution_count": null,
   "metadata": {
    "ExecuteTime": {
     "end_time": "2024-01-28T12:14:00.286844403Z",
     "start_time": "2024-01-28T12:14:00.238849046Z"
    },
    "collapsed": false
   },
   "outputs": [],
   "source": [
    "output_df"
   ]
  },
  {
   "cell_type": "code",
   "execution_count": null,
   "metadata": {
    "ExecuteTime": {
     "end_time": "2024-01-28T12:13:19.164095602Z",
     "start_time": "2024-01-28T12:13:19.114231189Z"
    },
    "collapsed": false
   },
   "outputs": [],
   "source": [
    "output_df['predicted_class'] = output_df.iloc[:, 1:].idxmax(axis=1)"
   ]
  },
  {
   "cell_type": "code",
   "execution_count": null,
   "metadata": {
    "ExecuteTime": {
     "end_time": "2024-01-28T12:13:21.267551005Z",
     "start_time": "2024-01-28T12:13:21.234074335Z"
    }
   },
   "outputs": [],
   "source": [
    "print(output_df[['eeg_id', 'predicted_class']])"
   ]
  },
  {
   "cell_type": "code",
   "execution_count": null,
   "metadata": {
    "ExecuteTime": {
     "end_time": "2024-01-28T12:13:28.524750635Z",
     "start_time": "2024-01-28T12:13:28.515955872Z"
    }
   },
   "outputs": [],
   "source": [
    "print(\"Shape of X_test_eeg:\", X_test_eeg.shape)\n",
    "print(\"Shape of X_test_spectrogram:\", X_test_spectrogram.shape)\n",
    "print(\"NaN values in X_test_eeg:\", np.isnan(X_test_eeg).any())\n",
    "print(\"NaN values in X_test_spectrogram:\", np.isnan(X_test_spectrogram).any())\n"
   ]
  },
  {
   "cell_type": "code",
   "execution_count": null,
   "metadata": {},
   "outputs": [],
   "source": [
    "y_test = np.array(y_test)\n",
    "labelst = y_test[:, 8]\n",
    "\n",
    "# Encoding labels using LabelEncoder\n",
    "label_encoder = LabelEncoder()\n",
    "encoded_labels = label_encoder.fit_transform(labelst)\n",
    "\n",
    "# Convert labels to categorical one-hot encoding\n",
    "one_hot_labels = to_categorical(encoded_labels, num_classes=num_classes)\n",
    "\n",
    "# Convert labels to float32\n",
    "y_test = one_hot_labels.astype('float32')\n",
    "\n",
    "# Convert other columns to numeric values\n",
    "for col_index in range(y_test.shape[1]):\n",
    "    # Skip label column as it has already been encoded\n",
    "    if col_index == 8:\n",
    "        continue\n",
    "    \n",
    "    # Convert each element in the column to a numeric value\n",
    "    y_test[:, col_index] = np.array([float(val) if isinstance(val, str) and '.' in val else int(val) for val in y_test[:, col_index]])\n"
   ]
  },
  {
   "cell_type": "code",
   "execution_count": null,
   "metadata": {
    "ExecuteTime": {
     "start_time": "2024-01-28T12:10:29.701959173Z"
    }
   },
   "outputs": [],
   "source": [
    "test_loss, test_accuracy = model.evaluate([X_test_eeg, X_test_spectrogram], y_test)\n",
    "print(f'Test Loss: {test_loss}, Test Accuracy: {test_accuracy}')\n"
   ]
  },
  {
   "cell_type": "code",
   "execution_count": null,
   "metadata": {},
   "outputs": [],
   "source": []
  }
 ],
 "metadata": {
  "kernelspec": {
   "display_name": "tf",
   "language": "python",
   "name": "python3"
  },
  "language_info": {
   "codemirror_mode": {
    "name": "ipython",
    "version": 3
   },
   "file_extension": ".py",
   "mimetype": "text/x-python",
   "name": "python",
   "nbconvert_exporter": "python",
   "pygments_lexer": "ipython3",
   "version": "3.10.13"
  }
 },
 "nbformat": 4,
 "nbformat_minor": 2
}
